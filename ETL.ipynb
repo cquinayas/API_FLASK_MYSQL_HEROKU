{
 "cells": [
  {
   "attachments": {},
   "cell_type": "markdown",
   "metadata": {},
   "source": [
    "### Proyecto Individual No 1 Data Engineering"
   ]
  },
  {
   "cell_type": "code",
   "execution_count": 10,
   "metadata": {},
   "outputs": [],
   "source": [
    "import pandas as pd\n",
    "import numpy as np"
   ]
  },
  {
   "attachments": {},
   "cell_type": "markdown",
   "metadata": {},
   "source": [
    "#### Extraccón de datos desde los archivos csv"
   ]
  },
  {
   "cell_type": "code",
   "execution_count": 7,
   "metadata": {},
   "outputs": [],
   "source": [
    "amazon = pd.read_csv('./Datasets/amazon_prime_titles-score.csv')\n",
    "disney = pd.read_csv('./Datasets/disney_plus_titles-score.csv')\n",
    "hulu = pd.read_csv('./Datasets/hulu_titles-score.csv')\n",
    "netflix = pd.read_csv('./Datasets/netflix_titles-score.csv')"
   ]
  },
  {
   "attachments": {},
   "cell_type": "markdown",
   "metadata": {},
   "source": [
    "#### Transformaciones"
   ]
  },
  {
   "attachments": {},
   "cell_type": "markdown",
   "metadata": {},
   "source": [
    "* 1. Generar campo id: Cada id se compondrá de la primera letra del nombre de la plataforma, seguido del show_id ya presente en los datasets (ejemplo para títulos de Amazon = as123"
   ]
  },
  {
   "cell_type": "code",
   "execution_count": 11,
   "metadata": {},
   "outputs": [
    {
     "data": {
      "text/html": [
       "<div>\n",
       "<style scoped>\n",
       "    .dataframe tbody tr th:only-of-type {\n",
       "        vertical-align: middle;\n",
       "    }\n",
       "\n",
       "    .dataframe tbody tr th {\n",
       "        vertical-align: top;\n",
       "    }\n",
       "\n",
       "    .dataframe thead th {\n",
       "        text-align: right;\n",
       "    }\n",
       "</style>\n",
       "<table border=\"1\" class=\"dataframe\">\n",
       "  <thead>\n",
       "    <tr style=\"text-align: right;\">\n",
       "      <th></th>\n",
       "      <th>show_id</th>\n",
       "      <th>type</th>\n",
       "      <th>title</th>\n",
       "      <th>director</th>\n",
       "      <th>cast</th>\n",
       "      <th>country</th>\n",
       "      <th>date_added</th>\n",
       "      <th>release_year</th>\n",
       "      <th>rating</th>\n",
       "      <th>duration</th>\n",
       "      <th>listed_in</th>\n",
       "      <th>description</th>\n",
       "      <th>score</th>\n",
       "    </tr>\n",
       "  </thead>\n",
       "  <tbody>\n",
       "    <tr>\n",
       "      <th>0</th>\n",
       "      <td>s1</td>\n",
       "      <td>Movie</td>\n",
       "      <td>Duck the Halls: A Mickey Mouse Christmas Special</td>\n",
       "      <td>Alonso Ramirez Ramos, Dave Wasson</td>\n",
       "      <td>Chris Diamantopoulos, Tony Anselmo, Tress MacN...</td>\n",
       "      <td>NaN</td>\n",
       "      <td>November 26, 2021</td>\n",
       "      <td>2016</td>\n",
       "      <td>TV-G</td>\n",
       "      <td>23 min</td>\n",
       "      <td>Animation, Family</td>\n",
       "      <td>Join Mickey and the gang as they duck the halls!</td>\n",
       "      <td>100</td>\n",
       "    </tr>\n",
       "  </tbody>\n",
       "</table>\n",
       "</div>"
      ],
      "text/plain": [
       "  show_id   type                                             title  \\\n",
       "0      s1  Movie  Duck the Halls: A Mickey Mouse Christmas Special   \n",
       "\n",
       "                            director  \\\n",
       "0  Alonso Ramirez Ramos, Dave Wasson   \n",
       "\n",
       "                                                cast country  \\\n",
       "0  Chris Diamantopoulos, Tony Anselmo, Tress MacN...     NaN   \n",
       "\n",
       "          date_added  release_year rating duration          listed_in  \\\n",
       "0  November 26, 2021          2016   TV-G   23 min  Animation, Family   \n",
       "\n",
       "                                        description  score  \n",
       "0  Join Mickey and the gang as they duck the halls!    100  "
      ]
     },
     "execution_count": 11,
     "metadata": {},
     "output_type": "execute_result"
    }
   ],
   "source": [
    "disney.head(1)"
   ]
  },
  {
   "cell_type": "code",
   "execution_count": 8,
   "metadata": {},
   "outputs": [],
   "source": [
    "amazon.insert(loc=0, column= 'id', value = 'a' + amazon.show_id)\n",
    "disney.insert(loc=0, column= 'id', value = 'd' + disney.show_id)\n",
    "hulu.insert(loc=0, column= 'id', value = 'h' + hulu.show_id)\n",
    "netflix.insert(loc=0, column= 'id', value = 'n' + netflix.show_id)"
   ]
  },
  {
   "cell_type": "code",
   "execution_count": 13,
   "metadata": {},
   "outputs": [
    {
     "data": {
      "text/html": [
       "<div>\n",
       "<style scoped>\n",
       "    .dataframe tbody tr th:only-of-type {\n",
       "        vertical-align: middle;\n",
       "    }\n",
       "\n",
       "    .dataframe tbody tr th {\n",
       "        vertical-align: top;\n",
       "    }\n",
       "\n",
       "    .dataframe thead th {\n",
       "        text-align: right;\n",
       "    }\n",
       "</style>\n",
       "<table border=\"1\" class=\"dataframe\">\n",
       "  <thead>\n",
       "    <tr style=\"text-align: right;\">\n",
       "      <th></th>\n",
       "      <th>id</th>\n",
       "      <th>show_id</th>\n",
       "      <th>type</th>\n",
       "      <th>title</th>\n",
       "      <th>director</th>\n",
       "      <th>cast</th>\n",
       "      <th>country</th>\n",
       "      <th>date_added</th>\n",
       "      <th>release_year</th>\n",
       "      <th>rating</th>\n",
       "      <th>duration</th>\n",
       "      <th>listed_in</th>\n",
       "      <th>description</th>\n",
       "      <th>score</th>\n",
       "    </tr>\n",
       "  </thead>\n",
       "  <tbody>\n",
       "    <tr>\n",
       "      <th>0</th>\n",
       "      <td>ns1</td>\n",
       "      <td>s1</td>\n",
       "      <td>Movie</td>\n",
       "      <td>Dick Johnson Is Dead</td>\n",
       "      <td>Kirsten Johnson</td>\n",
       "      <td>NaN</td>\n",
       "      <td>United States</td>\n",
       "      <td>September 25, 2021</td>\n",
       "      <td>2020</td>\n",
       "      <td>PG-13</td>\n",
       "      <td>90 min</td>\n",
       "      <td>Documentaries</td>\n",
       "      <td>As her father nears the end of his life, filmm...</td>\n",
       "      <td>29</td>\n",
       "    </tr>\n",
       "  </tbody>\n",
       "</table>\n",
       "</div>"
      ],
      "text/plain": [
       "    id show_id   type                 title         director cast  \\\n",
       "0  ns1      s1  Movie  Dick Johnson Is Dead  Kirsten Johnson  NaN   \n",
       "\n",
       "         country          date_added  release_year rating duration  \\\n",
       "0  United States  September 25, 2021          2020  PG-13   90 min   \n",
       "\n",
       "       listed_in                                        description  score  \n",
       "0  Documentaries  As her father nears the end of his life, filmm...     29  "
      ]
     },
     "execution_count": 13,
     "metadata": {},
     "output_type": "execute_result"
    }
   ],
   "source": [
    "netflix.head(1)"
   ]
  },
  {
   "attachments": {},
   "cell_type": "markdown",
   "metadata": {},
   "source": [
    "* 2. Los valores nulos del campo rating deberán reemplazarse por el string “G” (corresponde al maturity rating: “general for all audiences”"
   ]
  },
  {
   "cell_type": "code",
   "execution_count": 9,
   "metadata": {},
   "outputs": [],
   "source": [
    "amazon.rating.fillna('G',inplace=True)\n",
    "disney.rating.fillna('G',inplace=True)\n",
    "hulu.rating.fillna('G',inplace=True)\n",
    "netflix.rating.fillna('G',inplace=True)"
   ]
  },
  {
   "cell_type": "code",
   "execution_count": 15,
   "metadata": {},
   "outputs": [
    {
     "data": {
      "text/plain": [
       "0"
      ]
     },
     "execution_count": 15,
     "metadata": {},
     "output_type": "execute_result"
    }
   ],
   "source": [
    "amazon.rating.isnull().sum()"
   ]
  },
  {
   "attachments": {},
   "cell_type": "markdown",
   "metadata": {},
   "source": [
    "* 3. De haber fechas, deberán tener el formato AAAA-mm-dd"
   ]
  },
  {
   "cell_type": "code",
   "execution_count": 16,
   "metadata": {},
   "outputs": [
    {
     "data": {
      "text/plain": [
       "'March 30, 2021'"
      ]
     },
     "execution_count": 16,
     "metadata": {},
     "output_type": "execute_result"
    }
   ],
   "source": [
    "amazon.date_added[0]"
   ]
  },
  {
   "cell_type": "code",
   "execution_count": 11,
   "metadata": {},
   "outputs": [
    {
     "data": {
      "text/plain": [
       "9513"
      ]
     },
     "execution_count": 11,
     "metadata": {},
     "output_type": "execute_result"
    }
   ],
   "source": [
    "amazon.date_added.isna().sum()"
   ]
  },
  {
   "cell_type": "code",
   "execution_count": 12,
   "metadata": {},
   "outputs": [],
   "source": [
    "# Imputación de valores nulos por '0'\n",
    "amazon.date_added.fillna('0',inplace=True)\n",
    "disney.date_added.fillna('0',inplace=True)\n",
    "hulu.date_added.fillna('0',inplace=True)\n",
    "netflix.date_added.fillna('0',inplace=True)"
   ]
  },
  {
   "cell_type": "code",
   "execution_count": 13,
   "metadata": {},
   "outputs": [
    {
     "data": {
      "text/plain": [
       "0"
      ]
     },
     "execution_count": 13,
     "metadata": {},
     "output_type": "execute_result"
    }
   ],
   "source": [
    "amazon.date_added.isna().sum()"
   ]
  },
  {
   "cell_type": "code",
   "execution_count": 18,
   "metadata": {},
   "outputs": [],
   "source": [
    "# Función para convertir el formato de la fecha a %Y-%m-%d\n",
    "from datetime import datetime\n",
    "def convert_date(column):\n",
    "    fechas = []\n",
    "    for i in column:\n",
    "        if str(i)=='0':\n",
    "            fechas.append(i)\n",
    "        else:\n",
    "            objdate = datetime.strptime(str(i.strip()), \"%B %d, %Y\")\n",
    "            fechas.append(objdate.strftime(\"%Y-%m-%d\"))\n",
    "    return fechas   "
   ]
  },
  {
   "cell_type": "code",
   "execution_count": 19,
   "metadata": {},
   "outputs": [],
   "source": [
    "#Se crea la columna date\n",
    "amazon['date']=pd.DataFrame(convert_date(amazon.date_added))\n",
    "disney['date']=pd.DataFrame(convert_date(disney.date_added))\n",
    "hulu['date']=pd.DataFrame(convert_date(hulu.date_added))\n",
    "netflix['date']=pd.DataFrame(convert_date(netflix.date_added))"
   ]
  },
  {
   "cell_type": "code",
   "execution_count": 20,
   "metadata": {},
   "outputs": [
    {
     "data": {
      "text/html": [
       "<div>\n",
       "<style scoped>\n",
       "    .dataframe tbody tr th:only-of-type {\n",
       "        vertical-align: middle;\n",
       "    }\n",
       "\n",
       "    .dataframe tbody tr th {\n",
       "        vertical-align: top;\n",
       "    }\n",
       "\n",
       "    .dataframe thead th {\n",
       "        text-align: right;\n",
       "    }\n",
       "</style>\n",
       "<table border=\"1\" class=\"dataframe\">\n",
       "  <thead>\n",
       "    <tr style=\"text-align: right;\">\n",
       "      <th></th>\n",
       "      <th>id</th>\n",
       "      <th>show_id</th>\n",
       "      <th>type</th>\n",
       "      <th>title</th>\n",
       "      <th>director</th>\n",
       "      <th>cast</th>\n",
       "      <th>country</th>\n",
       "      <th>date_added</th>\n",
       "      <th>release_year</th>\n",
       "      <th>rating</th>\n",
       "      <th>duration</th>\n",
       "      <th>listed_in</th>\n",
       "      <th>description</th>\n",
       "      <th>score</th>\n",
       "      <th>date</th>\n",
       "    </tr>\n",
       "  </thead>\n",
       "  <tbody>\n",
       "    <tr>\n",
       "      <th>0</th>\n",
       "      <td>ns1</td>\n",
       "      <td>s1</td>\n",
       "      <td>Movie</td>\n",
       "      <td>Dick Johnson Is Dead</td>\n",
       "      <td>Kirsten Johnson</td>\n",
       "      <td>NaN</td>\n",
       "      <td>United States</td>\n",
       "      <td>September 25, 2021</td>\n",
       "      <td>2020</td>\n",
       "      <td>PG-13</td>\n",
       "      <td>90 min</td>\n",
       "      <td>Documentaries</td>\n",
       "      <td>As her father nears the end of his life, filmm...</td>\n",
       "      <td>29</td>\n",
       "      <td>2021-09-25</td>\n",
       "    </tr>\n",
       "  </tbody>\n",
       "</table>\n",
       "</div>"
      ],
      "text/plain": [
       "    id show_id   type                 title         director cast  \\\n",
       "0  ns1      s1  Movie  Dick Johnson Is Dead  Kirsten Johnson  NaN   \n",
       "\n",
       "         country          date_added  release_year rating duration  \\\n",
       "0  United States  September 25, 2021          2020  PG-13   90 min   \n",
       "\n",
       "       listed_in                                        description  score  \\\n",
       "0  Documentaries  As her father nears the end of his life, filmm...     29   \n",
       "\n",
       "         date  \n",
       "0  2021-09-25  "
      ]
     },
     "execution_count": 20,
     "metadata": {},
     "output_type": "execute_result"
    }
   ],
   "source": [
    "netflix.head(1)"
   ]
  },
  {
   "attachments": {},
   "cell_type": "markdown",
   "metadata": {},
   "source": [
    "* 4. Los campos de texto deberán estar en minúsculas, sin excepciones"
   ]
  },
  {
   "cell_type": "code",
   "execution_count": 21,
   "metadata": {},
   "outputs": [],
   "source": [
    "amazon = amazon.applymap(lambda x : x.lower() if type(x) == str else x)\n",
    "disney = disney.applymap(lambda x : x.lower() if type(x) == str else x)\n",
    "hulu = hulu.applymap(lambda x : x.lower() if type(x) == str else x)\n",
    "netflix = netflix.applymap(lambda x : x.lower() if type(x) == str else x)\n"
   ]
  },
  {
   "cell_type": "code",
   "execution_count": 22,
   "metadata": {},
   "outputs": [
    {
     "data": {
      "text/html": [
       "<div>\n",
       "<style scoped>\n",
       "    .dataframe tbody tr th:only-of-type {\n",
       "        vertical-align: middle;\n",
       "    }\n",
       "\n",
       "    .dataframe tbody tr th {\n",
       "        vertical-align: top;\n",
       "    }\n",
       "\n",
       "    .dataframe thead th {\n",
       "        text-align: right;\n",
       "    }\n",
       "</style>\n",
       "<table border=\"1\" class=\"dataframe\">\n",
       "  <thead>\n",
       "    <tr style=\"text-align: right;\">\n",
       "      <th></th>\n",
       "      <th>id</th>\n",
       "      <th>show_id</th>\n",
       "      <th>type</th>\n",
       "      <th>title</th>\n",
       "      <th>director</th>\n",
       "      <th>cast</th>\n",
       "      <th>country</th>\n",
       "      <th>date_added</th>\n",
       "      <th>release_year</th>\n",
       "      <th>rating</th>\n",
       "      <th>duration</th>\n",
       "      <th>listed_in</th>\n",
       "      <th>description</th>\n",
       "      <th>score</th>\n",
       "      <th>date</th>\n",
       "    </tr>\n",
       "  </thead>\n",
       "  <tbody>\n",
       "    <tr>\n",
       "      <th>0</th>\n",
       "      <td>as1</td>\n",
       "      <td>s1</td>\n",
       "      <td>movie</td>\n",
       "      <td>the grand seduction</td>\n",
       "      <td>don mckellar</td>\n",
       "      <td>brendan gleeson, taylor kitsch, gordon pinsent</td>\n",
       "      <td>canada</td>\n",
       "      <td>march 30, 2021</td>\n",
       "      <td>2014</td>\n",
       "      <td>g</td>\n",
       "      <td>113 min</td>\n",
       "      <td>comedy, drama</td>\n",
       "      <td>a small fishing village must procure a local d...</td>\n",
       "      <td>99</td>\n",
       "      <td>2021-03-30</td>\n",
       "    </tr>\n",
       "  </tbody>\n",
       "</table>\n",
       "</div>"
      ],
      "text/plain": [
       "    id show_id   type                title      director  \\\n",
       "0  as1      s1  movie  the grand seduction  don mckellar   \n",
       "\n",
       "                                             cast country      date_added  \\\n",
       "0  brendan gleeson, taylor kitsch, gordon pinsent  canada  march 30, 2021   \n",
       "\n",
       "   release_year rating duration      listed_in  \\\n",
       "0          2014      g  113 min  comedy, drama   \n",
       "\n",
       "                                         description  score        date  \n",
       "0  a small fishing village must procure a local d...     99  2021-03-30  "
      ]
     },
     "execution_count": 22,
     "metadata": {},
     "output_type": "execute_result"
    }
   ],
   "source": [
    "amazon.head(1)"
   ]
  },
  {
   "attachments": {},
   "cell_type": "markdown",
   "metadata": {},
   "source": [
    "* 5. El campo duration debe convertirse en dos campos: duration_int y duration_type. El primero será un integer y el segundo un string indicando la unidad de medición de duración: min (minutos) o season (temporadas)"
   ]
  },
  {
   "cell_type": "code",
   "execution_count": 24,
   "metadata": {},
   "outputs": [],
   "source": [
    "# Imputación de valores nulos de la columna duration\n",
    "amazon.duration.fillna('0',inplace=True)\n",
    "disney.duration.fillna('0',inplace=True)\n",
    "hulu.duration.fillna('0',inplace=True)\n",
    "netflix.duration.fillna('0',inplace=True)"
   ]
  },
  {
   "cell_type": "code",
   "execution_count": 25,
   "metadata": {},
   "outputs": [],
   "source": [
    "#Función para extraer el tiempo de la cadena de caracteres\n",
    "from collections import deque\n",
    "import re\n",
    "def duration_int(column):\n",
    "    d_int = []\n",
    "    for i in column:\n",
    "        if i == '0':\n",
    "            d_int.append(i)\n",
    "        else:\n",
    "            str1= re.split('[a-zA-Z]',str(i))\n",
    "            d_int.append(str1[0])\n",
    "    return d_int"
   ]
  },
  {
   "cell_type": "code",
   "execution_count": 26,
   "metadata": {},
   "outputs": [],
   "source": [
    "# Se crea la columna duration_int\n",
    "amazon['duration_int']=duration_int(amazon.duration)\n",
    "disney['duration_int']=duration_int(disney.duration)\n",
    "hulu['duration_int']=duration_int(hulu.duration)\n",
    "netflix['duration_int']=duration_int(netflix.duration)\n"
   ]
  },
  {
   "cell_type": "code",
   "execution_count": 28,
   "metadata": {},
   "outputs": [
    {
     "data": {
      "text/html": [
       "<div>\n",
       "<style scoped>\n",
       "    .dataframe tbody tr th:only-of-type {\n",
       "        vertical-align: middle;\n",
       "    }\n",
       "\n",
       "    .dataframe tbody tr th {\n",
       "        vertical-align: top;\n",
       "    }\n",
       "\n",
       "    .dataframe thead th {\n",
       "        text-align: right;\n",
       "    }\n",
       "</style>\n",
       "<table border=\"1\" class=\"dataframe\">\n",
       "  <thead>\n",
       "    <tr style=\"text-align: right;\">\n",
       "      <th></th>\n",
       "      <th>id</th>\n",
       "      <th>show_id</th>\n",
       "      <th>type</th>\n",
       "      <th>title</th>\n",
       "      <th>director</th>\n",
       "      <th>cast</th>\n",
       "      <th>country</th>\n",
       "      <th>date_added</th>\n",
       "      <th>release_year</th>\n",
       "      <th>rating</th>\n",
       "      <th>duration</th>\n",
       "      <th>listed_in</th>\n",
       "      <th>description</th>\n",
       "      <th>score</th>\n",
       "      <th>date</th>\n",
       "      <th>duration_int</th>\n",
       "    </tr>\n",
       "  </thead>\n",
       "  <tbody>\n",
       "    <tr>\n",
       "      <th>0</th>\n",
       "      <td>ns1</td>\n",
       "      <td>s1</td>\n",
       "      <td>movie</td>\n",
       "      <td>dick johnson is dead</td>\n",
       "      <td>kirsten johnson</td>\n",
       "      <td>NaN</td>\n",
       "      <td>united states</td>\n",
       "      <td>september 25, 2021</td>\n",
       "      <td>2020</td>\n",
       "      <td>pg-13</td>\n",
       "      <td>90 min</td>\n",
       "      <td>documentaries</td>\n",
       "      <td>as her father nears the end of his life, filmm...</td>\n",
       "      <td>29</td>\n",
       "      <td>2021-09-25</td>\n",
       "      <td>90</td>\n",
       "    </tr>\n",
       "  </tbody>\n",
       "</table>\n",
       "</div>"
      ],
      "text/plain": [
       "    id show_id   type                 title         director cast  \\\n",
       "0  ns1      s1  movie  dick johnson is dead  kirsten johnson  NaN   \n",
       "\n",
       "         country          date_added  release_year rating duration  \\\n",
       "0  united states  september 25, 2021          2020  pg-13   90 min   \n",
       "\n",
       "       listed_in                                        description  score  \\\n",
       "0  documentaries  as her father nears the end of his life, filmm...     29   \n",
       "\n",
       "         date duration_int  \n",
       "0  2021-09-25          90   "
      ]
     },
     "execution_count": 28,
     "metadata": {},
     "output_type": "execute_result"
    }
   ],
   "source": [
    "netflix.head(1)"
   ]
  },
  {
   "cell_type": "code",
   "execution_count": 29,
   "metadata": {},
   "outputs": [],
   "source": [
    "#Función para extraer el tipo de duraciónde la cadena de caracteres\n",
    "from collections import deque\n",
    "def duration_type(column):\n",
    "    d_type = []\n",
    "    for i in column:\n",
    "        if i == '0':\n",
    "            d_type.append(i)\n",
    "        else:\n",
    "            str1=  re.split('[0-9]',i)\n",
    "            str1 = deque(str1)\n",
    "            str1.rotate(1)\n",
    "            d_type.append(str1[0])\n",
    "    return d_type"
   ]
  },
  {
   "cell_type": "code",
   "execution_count": 30,
   "metadata": {},
   "outputs": [],
   "source": [
    "# Se crea la columna duration_type\n",
    "amazon['duration_type']=duration_type(amazon.duration)\n",
    "disney['duration_type']=duration_type(disney.duration)\n",
    "hulu['duration_type']=duration_type(hulu.duration)\n",
    "netflix['duration_type']=duration_type(netflix.duration)"
   ]
  },
  {
   "cell_type": "code",
   "execution_count": 34,
   "metadata": {},
   "outputs": [
    {
     "data": {
      "text/html": [
       "<div>\n",
       "<style scoped>\n",
       "    .dataframe tbody tr th:only-of-type {\n",
       "        vertical-align: middle;\n",
       "    }\n",
       "\n",
       "    .dataframe tbody tr th {\n",
       "        vertical-align: top;\n",
       "    }\n",
       "\n",
       "    .dataframe thead th {\n",
       "        text-align: right;\n",
       "    }\n",
       "</style>\n",
       "<table border=\"1\" class=\"dataframe\">\n",
       "  <thead>\n",
       "    <tr style=\"text-align: right;\">\n",
       "      <th></th>\n",
       "      <th>id</th>\n",
       "      <th>show_id</th>\n",
       "      <th>type</th>\n",
       "      <th>title</th>\n",
       "      <th>director</th>\n",
       "      <th>cast</th>\n",
       "      <th>country</th>\n",
       "      <th>date_added</th>\n",
       "      <th>release_year</th>\n",
       "      <th>rating</th>\n",
       "      <th>duration</th>\n",
       "      <th>listed_in</th>\n",
       "      <th>description</th>\n",
       "      <th>score</th>\n",
       "      <th>date</th>\n",
       "      <th>duration_int</th>\n",
       "      <th>duration_type</th>\n",
       "    </tr>\n",
       "  </thead>\n",
       "  <tbody>\n",
       "    <tr>\n",
       "      <th>0</th>\n",
       "      <td>ns1</td>\n",
       "      <td>s1</td>\n",
       "      <td>movie</td>\n",
       "      <td>dick johnson is dead</td>\n",
       "      <td>kirsten johnson</td>\n",
       "      <td>NaN</td>\n",
       "      <td>united states</td>\n",
       "      <td>september 25, 2021</td>\n",
       "      <td>2020</td>\n",
       "      <td>pg-13</td>\n",
       "      <td>90 min</td>\n",
       "      <td>documentaries</td>\n",
       "      <td>as her father nears the end of his life, filmm...</td>\n",
       "      <td>29</td>\n",
       "      <td>2021-03-30</td>\n",
       "      <td>90</td>\n",
       "      <td>min</td>\n",
       "    </tr>\n",
       "  </tbody>\n",
       "</table>\n",
       "</div>"
      ],
      "text/plain": [
       "    id show_id   type                 title         director cast  \\\n",
       "0  ns1      s1  movie  dick johnson is dead  kirsten johnson  NaN   \n",
       "\n",
       "         country          date_added  release_year rating duration  \\\n",
       "0  united states  september 25, 2021          2020  pg-13   90 min   \n",
       "\n",
       "       listed_in                                        description  score  \\\n",
       "0  documentaries  as her father nears the end of his life, filmm...     29   \n",
       "\n",
       "         date duration_int duration_type  \n",
       "0  2021-03-30          90            min  "
      ]
     },
     "execution_count": 34,
     "metadata": {},
     "output_type": "execute_result"
    }
   ],
   "source": [
    "netflix.head(1)"
   ]
  },
  {
   "cell_type": "code",
   "execution_count": null,
   "metadata": {},
   "outputs": [],
   "source": [
    "netflix.info()"
   ]
  },
  {
   "attachments": {},
   "cell_type": "markdown",
   "metadata": {},
   "source": [
    "#### Carga de datos en una base de datos MySQL"
   ]
  },
  {
   "cell_type": "code",
   "execution_count": 33,
   "metadata": {},
   "outputs": [],
   "source": [
    "import pandas.io as sql\n",
    "import sqlalchemy as db\n",
    "import pymysql"
   ]
  },
  {
   "cell_type": "code",
   "execution_count": 34,
   "metadata": {},
   "outputs": [],
   "source": [
    "# Credenciales de la base de datos creada en Free MySQL Hosting\n",
    "user = 'sql10591684'\n",
    "password = '2vv82khQDF'\n",
    "host = 'sql10.freemysqlhosting.net'\n",
    "port = 3306\n",
    "database = 'sql10591684'\n",
    "database_connection = db.create_engine(url=\"mysql+pymysql://{0}:{1}@{2}:{3}/{4}\".format(\n",
    "            user, password, host, port, database))"
   ]
  },
  {
   "cell_type": "code",
   "execution_count": null,
   "metadata": {},
   "outputs": [],
   "source": [
    "connection = database_connection.connect()\n",
    "metadata = db.MetaData()"
   ]
  },
  {
   "cell_type": "code",
   "execution_count": 35,
   "metadata": {},
   "outputs": [
    {
     "data": {
      "text/html": [
       "<div>\n",
       "<style scoped>\n",
       "    .dataframe tbody tr th:only-of-type {\n",
       "        vertical-align: middle;\n",
       "    }\n",
       "\n",
       "    .dataframe tbody tr th {\n",
       "        vertical-align: top;\n",
       "    }\n",
       "\n",
       "    .dataframe thead th {\n",
       "        text-align: right;\n",
       "    }\n",
       "</style>\n",
       "<table border=\"1\" class=\"dataframe\">\n",
       "  <thead>\n",
       "    <tr style=\"text-align: right;\">\n",
       "      <th></th>\n",
       "      <th>id</th>\n",
       "      <th>show_id</th>\n",
       "      <th>type</th>\n",
       "      <th>title</th>\n",
       "      <th>director</th>\n",
       "      <th>cast</th>\n",
       "      <th>country</th>\n",
       "      <th>date_added</th>\n",
       "      <th>release_year</th>\n",
       "      <th>rating</th>\n",
       "      <th>duration</th>\n",
       "      <th>listed_in</th>\n",
       "      <th>description</th>\n",
       "      <th>score</th>\n",
       "      <th>date</th>\n",
       "      <th>duration_int</th>\n",
       "      <th>duration_type</th>\n",
       "    </tr>\n",
       "  </thead>\n",
       "  <tbody>\n",
       "    <tr>\n",
       "      <th>0</th>\n",
       "      <td>as1</td>\n",
       "      <td>s1</td>\n",
       "      <td>movie</td>\n",
       "      <td>the grand seduction</td>\n",
       "      <td>don mckellar</td>\n",
       "      <td>brendan gleeson, taylor kitsch, gordon pinsent</td>\n",
       "      <td>canada</td>\n",
       "      <td>march 30, 2021</td>\n",
       "      <td>2014</td>\n",
       "      <td>g</td>\n",
       "      <td>113 min</td>\n",
       "      <td>comedy, drama</td>\n",
       "      <td>a small fishing village must procure a local d...</td>\n",
       "      <td>99</td>\n",
       "      <td>2021-03-30</td>\n",
       "      <td>113</td>\n",
       "      <td>min</td>\n",
       "    </tr>\n",
       "  </tbody>\n",
       "</table>\n",
       "</div>"
      ],
      "text/plain": [
       "    id show_id   type                title      director  \\\n",
       "0  as1      s1  movie  the grand seduction  don mckellar   \n",
       "\n",
       "                                             cast country      date_added  \\\n",
       "0  brendan gleeson, taylor kitsch, gordon pinsent  canada  march 30, 2021   \n",
       "\n",
       "   release_year rating duration      listed_in  \\\n",
       "0          2014      g  113 min  comedy, drama   \n",
       "\n",
       "                                         description  score        date  \\\n",
       "0  a small fishing village must procure a local d...     99  2021-03-30   \n",
       "\n",
       "  duration_int duration_type  \n",
       "0         113            min  "
      ]
     },
     "execution_count": 35,
     "metadata": {},
     "output_type": "execute_result"
    }
   ],
   "source": [
    "amazon.head(1)"
   ]
  },
  {
   "cell_type": "code",
   "execution_count": 236,
   "metadata": {},
   "outputs": [],
   "source": [
    "#Se seleccionas las columnas de interes para el almacenamiento en la base de datos\n",
    "amazon=amazon[['id','title','type','country','release_year','rating','score','duration_int','duration_type']]"
   ]
  },
  {
   "cell_type": "code",
   "execution_count": 237,
   "metadata": {},
   "outputs": [],
   "source": [
    "#Se eliminan espacios vacios y se convierte la columna duration_int a entero\n",
    "amazon['duration_int']=amazon['duration_int'].str.strip()\n",
    "amazon['duration_int']=amazon['duration_int'].astype(int)\n",
    "amazon['duration_type']=amazon['duration_type'].str.strip()"
   ]
  },
  {
   "cell_type": "code",
   "execution_count": 238,
   "metadata": {},
   "outputs": [
    {
     "data": {
      "text/plain": [
       "9668"
      ]
     },
     "execution_count": 238,
     "metadata": {},
     "output_type": "execute_result"
    }
   ],
   "source": [
    "#Se envía la tabla amazon a la base de datos\n",
    "amazon.to_sql('amazon',connection)"
   ]
  },
  {
   "cell_type": "code",
   "execution_count": 239,
   "metadata": {},
   "outputs": [],
   "source": [
    "disney=disney[['id','title','type','country','release_year','rating','score','duration_int','duration_type']]"
   ]
  },
  {
   "cell_type": "code",
   "execution_count": 240,
   "metadata": {},
   "outputs": [],
   "source": [
    "disney['duration_int']=disney['duration_int'].str.strip()\n",
    "disney['duration_int']=disney['duration_int'].astype(int)\n",
    "disney['duration_type']=disney['duration_type'].str.strip()"
   ]
  },
  {
   "cell_type": "code",
   "execution_count": 241,
   "metadata": {},
   "outputs": [
    {
     "data": {
      "text/plain": [
       "1450"
      ]
     },
     "execution_count": 241,
     "metadata": {},
     "output_type": "execute_result"
    }
   ],
   "source": [
    "#Se envía la tabla disney a la base de datos\n",
    "disney.to_sql('disney',connection)"
   ]
  },
  {
   "cell_type": "code",
   "execution_count": 242,
   "metadata": {},
   "outputs": [],
   "source": [
    "hulu=hulu[['id','title','type','country','release_year','rating','score','duration_int','duration_type']]\n",
    "hulu['duration_int']=hulu['duration_int'].str.strip()\n",
    "hulu['duration_int']=hulu['duration_int'].astype(int)\n",
    "hulu['duration_type']=hulu['duration_type'].str.strip()"
   ]
  },
  {
   "cell_type": "code",
   "execution_count": 243,
   "metadata": {},
   "outputs": [
    {
     "data": {
      "text/plain": [
       "3073"
      ]
     },
     "execution_count": 243,
     "metadata": {},
     "output_type": "execute_result"
    }
   ],
   "source": [
    "#Se envía la tabla hulu a la base de datos\n",
    "hulu.to_sql('hulu',connection)"
   ]
  },
  {
   "cell_type": "code",
   "execution_count": 244,
   "metadata": {},
   "outputs": [],
   "source": [
    "netflix=netflix[['id','title','type','country','release_year','rating','score','duration_int','duration_type']]\n",
    "netflix['duration_int']=netflix['duration_int'].str.strip()\n",
    "netflix['duration_int']=netflix['duration_int'].astype(int)\n",
    "netflix['duration_type']=netflix['duration_type'].str.strip()"
   ]
  },
  {
   "cell_type": "code",
   "execution_count": 245,
   "metadata": {},
   "outputs": [
    {
     "data": {
      "text/plain": [
       "8807"
      ]
     },
     "execution_count": 245,
     "metadata": {},
     "output_type": "execute_result"
    }
   ],
   "source": [
    "#Se envía la tabla netflix a la base de datos\n",
    "netflix.to_sql('netflix',connection)"
   ]
  },
  {
   "cell_type": "code",
   "execution_count": 219,
   "metadata": {},
   "outputs": [
    {
     "name": "stdout",
     "output_type": "stream",
     "text": [
      "Connection to the sql10.freemysqlhosting.net for user sql10591684 created successfully.\n"
     ]
    }
   ],
   "source": [
    "# DEFINE THE DATABASE CREDENTIALS\n",
    "user = 'sql10591684'\n",
    "password = '2vv82khQDF'\n",
    "host = 'sql10.freemysqlhosting.net'\n",
    "port = 3306\n",
    "database = 'sql10591684'\n",
    "  \n",
    "# PYTHON FUNCTION TO CONNECT TO THE MYSQL DATABASE AND\n",
    "# RETURN THE SQLACHEMY ENGINE OBJECT\n",
    "def get_connection():\n",
    "    return db.create_engine(\n",
    "        url=\"mysql+pymysql://{0}:{1}@{2}:{3}/{4}\".format(\n",
    "            user, password, host, port, database\n",
    "        )\n",
    "    )\n",
    "  \n",
    "  \n",
    "if __name__ == '__main__':\n",
    "  \n",
    "    try:\n",
    "        \n",
    "        # GET THE CONNECTION OBJECT (ENGINE) FOR THE DATABASE\n",
    "        engine = get_connection()\n",
    "        print(\n",
    "            f\"Connection to the {host} for user {user} created successfully.\")\n",
    "    except Exception as ex:\n",
    "        print(\"Connection could not be made due to the following error: \\n\", ex)"
   ]
  }
 ],
 "metadata": {
  "kernelspec": {
   "display_name": "venv",
   "language": "python",
   "name": "python3"
  },
  "language_info": {
   "codemirror_mode": {
    "name": "ipython",
    "version": 3
   },
   "file_extension": ".py",
   "mimetype": "text/x-python",
   "name": "python",
   "nbconvert_exporter": "python",
   "pygments_lexer": "ipython3",
   "version": "3.8.8"
  },
  "orig_nbformat": 4,
  "vscode": {
   "interpreter": {
    "hash": "696a1a376b201ee42b38510919a3c361d2e13d4186f7fa2a4623f66b84f2ae4c"
   }
  }
 },
 "nbformat": 4,
 "nbformat_minor": 2
}
